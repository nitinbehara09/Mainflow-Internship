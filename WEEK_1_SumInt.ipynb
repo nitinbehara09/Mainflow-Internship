{
  "nbformat": 4,
  "nbformat_minor": 0,
  "metadata": {
    "colab": {
      "provenance": [],
      "authorship_tag": "ABX9TyNMsKnfLkkZ4S8GMEjKJZ9E",
      "include_colab_link": true
    },
    "kernelspec": {
      "name": "python3",
      "display_name": "Python 3"
    },
    "language_info": {
      "name": "python"
    }
  },
  "cells": [
    {
      "cell_type": "markdown",
      "metadata": {
        "id": "view-in-github",
        "colab_type": "text"
      },
      "source": [
        "<a href=\"https://colab.research.google.com/github/nitinbehara09/Mainflow-Internship/blob/main/WEEK_1_SumInt.ipynb\" target=\"_parent\"><img src=\"https://colab.research.google.com/assets/colab-badge.svg\" alt=\"Open In Colab\"/></a>"
      ]
    },
    {
      "cell_type": "markdown",
      "source": [
        "### **Week 1 - Internship**"
      ],
      "metadata": {
        "id": "glNmyBRBxwBp"
      }
    },
    {
      "cell_type": "code",
      "execution_count": null,
      "metadata": {
        "colab": {
          "base_uri": "https://localhost:8080/"
        },
        "id": "IUczgOUpxply",
        "outputId": "fa4a1867-ee3f-4a58-bd65-45a10b2a1d81"
      },
      "outputs": [
        {
          "output_type": "stream",
          "name": "stdout",
          "text": [
            "[1, 2, 3, 4, 5, 6, 7]\n",
            "[1, 2, 3, 4, 5, 6, 7]\n",
            "[1, 3, 4, 5, 6, 7]\n",
            "Updated List:  [1, 21, 4, 5, 6, 7]\n"
          ]
        }
      ],
      "source": [
        "# Creation of a LIST\n",
        "list = [1,2,3,4,5,6,7]\n",
        "print(list)\n",
        "\n",
        "# Adding an element\n",
        "print(list)\n",
        "\n",
        "# Removing an element\n",
        "list.remove(2)\n",
        "print(list)\n",
        "\n",
        "# Modifying an elemnt\n",
        "list[1] = 21\n",
        "\n",
        "print(\"Updated List: \",list)"
      ]
    },
    {
      "cell_type": "code",
      "source": [
        "# Creation of DICTIONARY\n",
        "dict = {'name': 'Nitin','age':25,'City':'Goa'}\n",
        "print(dict)\n",
        "\n",
        "# Adding\n",
        "dict ['gender'] = 'Male'\n",
        "print(dict)\n",
        "\n",
        "# Removing\n",
        "del dict['City']\n",
        "print(dict)\n",
        "\n",
        "# Modifying\n",
        "dict['age'] = 20\n",
        "\n",
        "print(\"Updated Dictionary:\",dict)"
      ],
      "metadata": {
        "colab": {
          "base_uri": "https://localhost:8080/"
        },
        "id": "6s5HC5bdyz3g",
        "outputId": "7cb06ae0-1d90-48de-f8b4-960a632800ec"
      },
      "execution_count": null,
      "outputs": [
        {
          "output_type": "stream",
          "name": "stdout",
          "text": [
            "{'name': 'Nitin', 'age': 25, 'City': 'Goa'}\n",
            "{'name': 'Nitin', 'age': 25, 'City': 'Goa', 'gender': 'Male'}\n",
            "{'name': 'Nitin', 'age': 25, 'gender': 'Male'}\n",
            "Updated Dictionary: {'name': 'Nitin', 'age': 20, 'gender': 'Male'}\n"
          ]
        }
      ]
    },
    {
      "cell_type": "code",
      "source": [
        "# Creation of SET\n",
        "set = {1,2,3,4,5,6,7}\n",
        "print(set)\n",
        "\n",
        "# Adding\n",
        "set.add(9)\n",
        "print(set)\n",
        "\n",
        "# Removing\n",
        "set.remove(3)\n",
        "print(set)\n",
        "\n",
        "# Modifying\n",
        "set.discard(2)\n",
        "set.add(11)\n",
        "\n",
        "print(\"Updated Set:\",set)"
      ],
      "metadata": {
        "colab": {
          "base_uri": "https://localhost:8080/"
        },
        "id": "QZ3NW7ts0888",
        "outputId": "11f04501-e9c2-4e31-95b9-31a97d4ff266"
      },
      "execution_count": null,
      "outputs": [
        {
          "output_type": "stream",
          "name": "stdout",
          "text": [
            "{1, 2, 3, 4, 5, 6, 7}\n",
            "{1, 2, 3, 4, 5, 6, 7, 9}\n",
            "{1, 2, 4, 5, 6, 7, 9}\n",
            "Updated Set: {1, 4, 5, 6, 7, 9, 11}\n"
          ]
        }
      ]
    }
  ]
}